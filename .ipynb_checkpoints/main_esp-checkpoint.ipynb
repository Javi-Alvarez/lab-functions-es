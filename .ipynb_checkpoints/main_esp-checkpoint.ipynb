{
 "cells": [
  {
   "cell_type": "markdown",
   "metadata": {},
   "source": [
    "# Functions"
   ]
  },
  {
   "cell_type": "markdown",
   "metadata": {},
   "source": [
    "En este laboratorio pondremos en práctica algunos de los conceptos que hemos aprendido en los últimos días.\n",
    "\n",
    "`NOTA: En este laboratorio deberías intentar escribir todas las funciones por ti mismo utilizando solo la sintaxis más básica de Python y sin funciones como len, count, sum, max, min, in, etc. Dale una oportunidad. 🧑🏻‍💻👩🏻‍💻`\n",
    "\n",
    "La celda después de cada ejercicio contiene algunas pruebas para verificar si tu función funciona como se espera."
   ]
  },
  {
   "cell_type": "code",
   "execution_count": 2,
   "metadata": {},
   "outputs": [],
   "source": [
    "from mod.testing import *\n",
    "import unittest"
   ]
  },
  {
   "cell_type": "markdown",
   "metadata": {},
   "source": [
    "## 1. Escribe una función que devuelva el mayor de dos números"
   ]
  },
  {
   "cell_type": "code",
   "execution_count": 5,
   "metadata": {},
   "outputs": [],
   "source": [
    "def greater(a,b):  \n",
    "#your code here#tu codigo aquí\n",
    "    if a>b:\n",
    "        return a\n",
    "    else:\n",
    "        return b"
   ]
  },
  {
   "cell_type": "code",
   "execution_count": 7,
   "metadata": {},
   "outputs": [
    {
     "name": "stderr",
     "output_type": "stream",
     "text": [
      "....................................................................................................\n",
      "----------------------------------------------------------------------\n",
      "Ran 100 tests in 0.040s\n",
      "\n",
      "OK\n"
     ]
    }
   ],
   "source": [
    "# Para testear tu función\n",
    "test_greater(greater)"
   ]
  },
  {
   "cell_type": "markdown",
   "metadata": {},
   "source": [
    "## 2. Ahora escribe una función que devuelva el elemento más"
   ]
  },
  {
   "cell_type": "code",
   "execution_count": 21,
   "metadata": {},
   "outputs": [],
   "source": [
    "#tu codigo aquí\n",
    "def greatest(list_):\n",
    "    greatest_=list_[0]\n",
    "    for i in list_:\n",
    "        if i>greatest_:\n",
    "            greatest_=i\n",
    "    return greatest_\n"
   ]
  },
  {
   "cell_type": "code",
   "execution_count": 23,
   "metadata": {},
   "outputs": [
    {
     "name": "stderr",
     "output_type": "stream",
     "text": [
      "....................................................................................................\n",
      "----------------------------------------------------------------------\n",
      "Ran 100 tests in 0.031s\n",
      "\n",
      "OK\n"
     ]
    }
   ],
   "source": [
    "# Para testear tu función\n",
    "test_greatest(greatest)"
   ]
  },
  {
   "cell_type": "markdown",
   "metadata": {},
   "source": [
    "## 3. Escribe una función que sume todos los elementos de una lista"
   ]
  },
  {
   "cell_type": "code",
   "execution_count": 33,
   "metadata": {},
   "outputs": [],
   "source": [
    "def sum_all(lst):\n",
    "    sum_=0\n",
    "    for i in lst:\n",
    "        sum_+=i\n",
    "    return sum_\n",
    "#tu codigo aquí"
   ]
  },
  {
   "cell_type": "code",
   "execution_count": 35,
   "metadata": {
    "scrolled": true
   },
   "outputs": [
    {
     "name": "stderr",
     "output_type": "stream",
     "text": [
      "....................................................................................................\n",
      "----------------------------------------------------------------------\n",
      "Ran 100 tests in 0.035s\n",
      "\n",
      "OK\n"
     ]
    }
   ],
   "source": [
    "# Para testear tu función\n",
    "test_sum(sum_all)"
   ]
  },
  {
   "cell_type": "markdown",
   "metadata": {},
   "source": [
    "## 4. Escribe otra función que multiplique todos los elementos de una lista"
   ]
  },
  {
   "cell_type": "code",
   "execution_count": 37,
   "metadata": {},
   "outputs": [],
   "source": [
    "def mult_all(lst):\n",
    "    porduct=1\n",
    "    for i in lst:\n",
    "        porduct*=i\n",
    "    return porduct\n",
    "#tu codigo aquí"
   ]
  },
  {
   "cell_type": "code",
   "execution_count": 39,
   "metadata": {
    "scrolled": true
   },
   "outputs": [
    {
     "name": "stderr",
     "output_type": "stream",
     "text": [
      "....................................................................................................\n",
      "----------------------------------------------------------------------\n",
      "Ran 100 tests in 0.038s\n",
      "\n",
      "OK\n"
     ]
    }
   ],
   "source": [
    "# Para testear tu función\n",
    "test_mult(mult_all)"
   ]
  },
  {
   "cell_type": "markdown",
   "metadata": {},
   "source": [
    "## 5. Ahora combina esas dos ideas y escribe una función que reciba una lista y ya sea \"+\" o \"*\", y produzca el resultado acorde"
   ]
  },
  {
   "cell_type": "code",
   "execution_count": 41,
   "metadata": {},
   "outputs": [],
   "source": [
    "def oper_all(arr, oper = \"*\"):\n",
    "    if oper==\"+\":\n",
    "        sum_=0\n",
    "        for i in arr:\n",
    "            sum_+=i\n",
    "        return sum_\n",
    "    elif oper==\"*\":\n",
    "        product=1\n",
    "        for i in arr:\n",
    "            product*=i\n",
    "        return product\n",
    "#tu codigo aquí"
   ]
  },
  {
   "cell_type": "code",
   "execution_count": 43,
   "metadata": {},
   "outputs": [
    {
     "name": "stderr",
     "output_type": "stream",
     "text": [
      "....................................................................................................\n",
      "----------------------------------------------------------------------\n",
      "Ran 100 tests in 0.036s\n",
      "\n",
      "OK\n"
     ]
    }
   ],
   "source": [
    "# Para testear tu función\n",
    "test_operations(oper_all)"
   ]
  },
  {
   "cell_type": "markdown",
   "metadata": {},
   "source": [
    "## 6. Escribe una función que devuelva el factorial de un número."
   ]
  },
  {
   "cell_type": "code",
   "execution_count": 45,
   "metadata": {},
   "outputs": [],
   "source": [
    "def factorial(n):\n",
    "    fact=1\n",
    "    while n>=1:\n",
    "        fact*=n\n",
    "        n-=1\n",
    "    return fact\n",
    "#tu codigo aquí"
   ]
  },
  {
   "cell_type": "code",
   "execution_count": 47,
   "metadata": {},
   "outputs": [],
   "source": [
    "# Fórmula factorial\n",
    "# n! = n * (n - 1) *...*1\n",
    "\n",
    "# Este código define una función llamada \"factorial\" que toma una entrada \"n\". La función utiliza un bucle for para iterar a través del rango de números\n",
    "# desde 1 hasta n+1. Para cada número en ese rango, multiplica el valor actual de x por el número en el rango. Al final del bucle,\n",
    "# la función devuelve el valor final de x, que será el factorial del número de entrada \"n\".\n",
    "\n",
    "# El factorial de un entero positivo n es el producto de todos los enteros positivos menores o iguales a n.\n",
    "# Por ejemplo, el factorial de 6 (escrito \"6!\") es 6 * 5 * 4 * 3 * 2 * 1 = 720.\n",
    "\n",
    "# Así que esta función toma una entrada de cualquier entero positivo y devuelve el factorial de ese número."
   ]
  },
  {
   "cell_type": "code",
   "execution_count": 49,
   "metadata": {},
   "outputs": [
    {
     "name": "stderr",
     "output_type": "stream",
     "text": [
      "....................................................................................................\n",
      "----------------------------------------------------------------------\n",
      "Ran 100 tests in 0.063s\n",
      "\n",
      "OK\n"
     ]
    }
   ],
   "source": [
    "# This will test your function \n",
    "test_factorial(factorial)"
   ]
  },
  {
   "cell_type": "markdown",
   "metadata": {},
   "source": [
    "## 7. Escribe una función que tome una lista y devuelva una lista de los valores únicos.\n",
    "\n",
    "`NOTE: No podemos usar set. 🤔`"
   ]
  },
  {
   "cell_type": "code",
   "execution_count": 51,
   "metadata": {},
   "outputs": [],
   "source": [
    "def unique(lst_un):\n",
    "    set_=[lst_un[0]]\n",
    "    for a in lst_un:\n",
    "        if a not in set_:\n",
    "            set_.append(a)\n",
    "    return set_\n",
    "#tu codigo aquí"
   ]
  },
  {
   "cell_type": "code",
   "execution_count": 53,
   "metadata": {},
   "outputs": [
    {
     "name": "stderr",
     "output_type": "stream",
     "text": [
      "....................................................................................................\n",
      "----------------------------------------------------------------------\n",
      "Ran 100 tests in 0.073s\n",
      "\n",
      "OK\n"
     ]
    }
   ],
   "source": [
    "# Para testear tu función \n",
    "test_unique(unique)"
   ]
  },
  {
   "cell_type": "markdown",
   "metadata": {},
   "source": [
    "## 8. Escribe una función que devuelva la moda de una lista, es decir: el elemento que aparece más veces.\n",
    "\n",
    "`NOTE: No se debe usar count... 🧐`"
   ]
  },
  {
   "cell_type": "code",
   "execution_count": 55,
   "metadata": {},
   "outputs": [],
   "source": [
    "def mode_counter(arr):\n",
    "    set_=set(arr)\n",
    "    moda=0\n",
    "    for a in set_:\n",
    "        b=0\n",
    "        for i in arr:\n",
    "            if i==a:\n",
    "                b+=1\n",
    "        if b>moda:\n",
    "            moda=b\n",
    "            mode_value=a\n",
    "    return mode_value\n",
    "   \n",
    "#tu codigo aquí"
   ]
  },
  {
   "cell_type": "code",
   "execution_count": 57,
   "metadata": {},
   "outputs": [
    {
     "name": "stderr",
     "output_type": "stream",
     "text": [
      "....................................................................................................\n",
      "----------------------------------------------------------------------\n",
      "Ran 100 tests in 0.045s\n",
      "\n",
      "OK\n"
     ]
    }
   ],
   "source": [
    "# Para testear tu función \n",
    "test_mode(mode_counter)"
   ]
  },
  {
   "cell_type": "markdown",
   "metadata": {},
   "source": [
    "## 9. Escribe una función que calcule la desviación estándar de una lista.\n",
    "`NOTE: no utilices librerías ni ninguna función ya construida. 😉`"
   ]
  },
  {
   "cell_type": "code",
   "execution_count": 59,
   "metadata": {},
   "outputs": [],
   "source": [
    "def st_dev(list_sd):\n",
    "    sum_values=0\n",
    "    num_values=0\n",
    "    sum_dif2=0\n",
    "    for i in list_sd:\n",
    "        sum_values+=i # calcula la suma de los valores\n",
    "        num_values+=1 # calculan cuantos valores hay\n",
    "    mean=sum_values/num_values\n",
    "    for a in list_sd:\n",
    "        sum_dif2+=(a-mean)**2\n",
    "    st_dev=(sum_dif2/(num_values-1))**0.5\n",
    "    return st_dev\n",
    "           \n",
    "#tu codigo aquí"
   ]
  },
  {
   "cell_type": "code",
   "execution_count": 61,
   "metadata": {},
   "outputs": [
    {
     "name": "stderr",
     "output_type": "stream",
     "text": [
      "....................................................................................................\n",
      "----------------------------------------------------------------------\n",
      "Ran 100 tests in 0.036s\n",
      "\n",
      "OK\n"
     ]
    }
   ],
   "source": [
    "# Para testear tu función\n",
    "test_stdev(st_dev)"
   ]
  },
  {
   "cell_type": "markdown",
   "metadata": {},
   "source": [
    "## 10. Escribe una función para verificar si una cadena es un pangrama, es decir: si contiene todas las letras del alfabeto al menos una vez. Ten en cuenta que las cadenas pueden contener caracteres que no son letras."
   ]
  },
  {
   "cell_type": "code",
   "execution_count": 63,
   "metadata": {},
   "outputs": [],
   "source": [
    "def pangram(string):\n",
    "    string=string.lower()\n",
    "    alphabet = \"abcdefghijklmnopqrstuvwxyz\"\n",
    "    for letter in alphabet:\n",
    "        if letter not in string:\n",
    "            return False\n",
    "    return True\n",
    "\n",
    "#tu codigo aquí"
   ]
  },
  {
   "cell_type": "code",
   "execution_count": 65,
   "metadata": {},
   "outputs": [
    {
     "name": "stderr",
     "output_type": "stream",
     "text": [
      "..............................\n",
      "----------------------------------------------------------------------\n",
      "Ran 30 tests in 0.017s\n",
      "\n",
      "OK\n"
     ]
    }
   ],
   "source": [
    "# Para testear tu función\n",
    "test_pangram(pangram)"
   ]
  },
  {
   "cell_type": "markdown",
   "metadata": {},
   "source": [
    "## 11. Escribe una función que reciba una cadena de palabras separadas por comas y devuelva una cadena de palabras separadas por comas ordenadas alfabéticamente.\n",
    "\n",
    "`NOTA: Puedes usar sorted pero no split y definitivamente no join! 🤪`"
   ]
  },
  {
   "cell_type": "code",
   "execution_count": 67,
   "metadata": {},
   "outputs": [],
   "source": [
    "def sort_alpha(string):\n",
    "    list_=[]\n",
    "    word=''\n",
    "    for a in string: \n",
    "        if a!=\",\":\n",
    "            word=word+a\n",
    "        else:\n",
    "            list_.append(word+',')\n",
    "            word=''\n",
    "    list_.append(word+',')\n",
    "    print(list_)\n",
    "    list_.sort()\n",
    "    string=''\n",
    "    for word in list_:\n",
    "        string=string+word\n",
    "    return string[0:-1]\n",
    "\n",
    "#tu codigo aquí"
   ]
  },
  {
   "cell_type": "code",
   "execution_count": 69,
   "metadata": {},
   "outputs": [
    {
     "name": "stderr",
     "output_type": "stream",
     "text": [
      "....................................................................................................\n",
      "----------------------------------------------------------------------\n",
      "Ran 100 tests in 0.040s\n",
      "\n",
      "OK\n"
     ]
    },
    {
     "name": "stdout",
     "output_type": "stream",
     "text": [
      "['kgkcpzo,', 'ttuzgn,', 'wkqwyjg,', 'sghakpzu,', 'fkee,', 'btxisu,', 'qayocwr,', 'unypclj,', 'deyljnqdu,', 'onekpwayxu,', 'qhiuhvasf,', 'iognjl,', 'lezeua,', 'ctwo,', 'nvhuyum,', 'ugnjpb,', 'bylqxrq,', 'fqtafzlb,', 'vvbtkhegp,', 'zbjsgutx,', 'wmhwsxdusf,', 'knacf,']\n",
      "['rvhacsdazl,', 'mpznndtll,', 'betfyimsgv,', 'zlpq,', 'qbjmbthflk,', 'dwsxbafw,', 'hwhidwdvqb,', 'guqwoqngc,', 'mfhjkg,', 'eidlwf,', 'jxopgqfeqe,', 'qltpadb,', 'wxkxu,', 'ulrlmwimo,', 'remoz,', 'yktpobyzp,', 'raofglhg,', 'jjqlkhav,', 'ghkdjxv,', 'ufjo,', 'qhifgnzig,', 'pqfbstysxn,', 'spchzywqux,']\n",
      "['xhgzpv,', 'xvhv,', 'vafjxkxk,', 'oxypmbl,', 'anioerbkf,', 'wkkutoi,', 'vjcdb,', 'gvqutey,', 'hlmlvtcr,', 'hxzjrzas,']\n",
      "['ycuyyxr,', 'agyaos,', 'pamjqwnduj,', 'jbrdunjljv,', 'emgm,', 'bnhnpuzu,', 'gztzges,']\n",
      "['indkkmw,', 'otho,', 'gnjpw,', 'lrnebzzh,', 'pnbxvn,', 'fqwomq,']\n",
      "['okiwkc,', 'arkwwg,', 'akywerotx,', 'gkjwzcnv,', 'xvhqa,', 'jnpnu,', 'rjqh,', 'ijhxkn,', 'xpazf,', 'hehg,', 'rwwtyf,', 'owfr,', 'celrzvv,', 'fiqjsz,', 'ygmcwpcwaz,', 'sqcw,', 'tgzfl,']\n",
      "['fcisxw,', 'tahlvpw,', 'yulcmueqn,', 'nagvo,']\n",
      "['rabhg,', 'ugzg,', 'jjdidiei,', 'xncofaamt,', 'gnuveprbch,', 'egjn,', 'biwvmt,', 'axzdg,', 'glqflpsn,', 'axqwseclh,', 'plqfqz,', 'kurqkow,', 'srssizznvz,', 'ttlnzitsqd,', 'pjvuioz,']\n",
      "['juui,', 'cmhicwam,', 'smhsligfrr,', 'jdaxfjvpm,', 'jtuqjl,', 'aynol,', 'ihdlblsa,', 'qsqnd,', 'ejtd,', 'jrwgf,', 'rinhj,', 'bchue,', 'jxbhwqwz,', 'gckyzemzv,', 'uqdfbcyi,', 'fonv,', 'sclwbvaosv,', 'aafbqnzjpl,', 'qvbyjxinwx,']\n",
      "['gvafq,', 'zfzrt,', 'rral,', 'nsbvtgls,', 'ahkzmh,', 'xxgxlmnqed,', 'eopqypzddn,', 'lewj,', 'xlhj,', 'jmph,', 'zkwdbwjubf,']\n",
      "['tgcpnl,', 'qlzuqyftbm,', 'auchcj,', 'hsqjno,', 'anqmdgl,', 'swiysqqj,', 'mtcupmmbku,', 'zlbmixtmda,', 'vfjllg,', 'nfspjwplu,', 'vvhlialc,', 'icjsnp,']\n",
      "['acngfhysw,', 'nflr,', 'ljdcrkznwi,', 'jnyhq,', 'wdnypcrjy,', 'yeovcb,', 'sxhouf,', 'sztlwhjwy,', 'yvpmriw,', 'lowdbgpdv,']\n",
      "['rylqzm,', 'dnrhfztca,', 'jwdpeihwp,', 'yrgzpohfpz,', 'dvdjycargr,', 'qkohzpn,', 'qsxj,', 'lrpu,', 'txhgx,', 'gsfte,', 'weua,', 'xducx,', 'ulyqdlauxx,', 'yrubzqa,', 'piocwjkfct,', 'nhwqt,', 'ueyltrljbq,', 'mmgig,']\n",
      "['jtargyk,', 'jfllp,', 'jaoocwdv,', 'uigpvzr,']\n",
      "['vqdjcnc,', 'nfndh,', 'zrkferwux,', 'soqok,', 'fqhpfnpd,', 'idcxcuwzt,', 'dzwtmarmyf,', 'ecfmjfhulu,', 'gbuqxm,', 'whdeke,']\n",
      "['cczbs,', 'wqyynfovo,', 'uprpzyb,', 'vmtdur,', 'xbzayixtjb,', 'efzpupr,', 'uoytp,', 'mrpvzyq,', 'zladozkckr,', 'unlsvwole,', 'tmbmiyqayl,', 'unov,', 'eeum,', 'vwkm,', 'wuslpwo,', 'gyewd,']\n",
      "['sarbsij,', 'spsajvks,', 'pdheqwx,', 'ivfbwdgm,', 'hzvlhic,', 'whcilyr,', 'ndwf,', 'addzaxkx,', 'zssjs,', 'ibek,', 'dkefekuc,', 'owkxla,', 'pttibf,', 'lkbf,', 'lzrjcmhvcw,', 'ohifn,']\n",
      "['dsrboqb,', 'tsako,', 'aftit,', 'bpae,', 'hkxjr,', 'kdzcp,', 'cgpxs,', 'hcunnlyf,', 'tukznoxd,', 'ssgvakep,']\n",
      "['ucve,', 'glxrhth,', 'seaqwwkp,', 'mifvywaquo,', 'unfoitkrmx,', 'unpamdmwje,', 'xhknkbakom,', 'drahp,', 'aezlxr,', 'xpqh,', 'ygfmlu,', 'zshskp,', 'orawofiyhc,', 'ybgzn,', 'rskuxtjme,']\n",
      "['rcbl,', 'mwggokz,', 'ypwsszxj,', 'rqqjww,', 'egofv,']\n",
      "['yuocflat,', 'rienpbd,', 'vekzxx,', 'joeez,', 'fvsgonffh,', 'yxhcyirwp,', 'gqynmr,', 'bvvucxuz,', 'onfkiz,', 'nbaic,', 'gxyy,', 'hmlapktqb,', 'dduwizfsb,', 'ntsqcxopcb,', 'dafa,', 'lofeocyf,', 'bxfd,', 'nghtosulth,', 'ujajnt,', 'lbkmuvbdau,']\n",
      "['prwrp,', 'whoygpd,', 'mquxvw,', 'afum,', 'kfgebpqyk,', 'ncmk,', 'wkhuy,', 'brerpnbogd,', 'eqhou,', 'vkyewvaoe,', 'ljfc,', 'awewvgvfxe,', 'evxcqnzhk,', 'gyijpyey,', 'xufsktn,', 'komipe,', 'qqexlk,', 'csqwlkh,', 'xdjyqat,', 'oethbhuyr,', 'qmrazvpof,']\n",
      "['rwlshal,', 'gcgt,', 'nwmikt,', 'ftjnjzoreq,', 'oixms,', 'wide,', 'jbjfeavsgz,', 'sgqqluva,', 'sqepj,', 'kwybtadq,', 'ncqbvwyja,', 'ochwwtiile,', 'yojqdh,', 'oqjyfns,', 'vvaugkyx,', 'rmeht,', 'hlrre,', 'upzusalv,', 'xdkybkdj,', 'oryewokk,']\n",
      "['thtsdikg,', 'jzqr,', 'xdwgol,', 'cnux,', 'wtyxgikx,', 'iicxinja,', 'sqlt,', 'fdnkcvoeyt,', 'eigi,', 'tnspehq,', 'xsluliej,', 'ytfhy,', 'ggvhobb,', 'ujog,', 'ctsyzal,', 'gwxheqiu,', 'ouyl,', 'eooxuymdlx,', 'udqsbwpe,', 'olpkzwltdo,']\n",
      "['ltlrmfc,', 'uhuozlu,', 'mrmcxdjif,', 'amdbhp,', 'omsspht,', 'hlkagaj,', 'gkblcgviqh,', 'zvvxwovdxf,', 'jlguld,', 'dozbh,', 'mtylcldkx,', 'nedczmn,', 'dcmdkha,', 'mnnxdnbwaq,', 'fmazykrq,', 'qwfxzszf,', 'dpfirgj,', 'slmsuqtcfs,', 'mmpxxbbyj,', 'immp,', 'hfmiauuwk,', 'rfqeomsk,']\n",
      "['fwen,', 'pdeovpfb,', 'wegaast,', 'flpj,', 'ztyazxvksp,', 'hkgax,', 'nujbryf,', 'fyorfepc,', 'lrykqchl,', 'ywzhdu,', 'edhpvfuk,', 'iwaobqfgw,', 'imwbditm,', 'jcye,']\n",
      "['jxzzql,', 'rznkq,', 'kpmmb,', 'rtgbhtg,', 'ivdqcydyu,', 'jliptqxzq,']\n",
      "['oprsxmrevy,', 'unhsshh,', 'elskyd,', 'boheh,', 'xnkyndd,', 'gcau,', 'einkun,', 'rgullp,', 'kbiwpukmzp,', 'wrziddi,', 'lxbugb,', 'jnzvsqv,', 'mktcughl,', 'zckda,']\n",
      "['oslec,', 'rsecu,', 'rmcpwmmjs,', 'wlkvnmwn,', 'tptkhdv,']\n",
      "['mbljzf,', 'eryvnuoot,', 'axlykj,', 'mffijpzq,', 'cbeoyxkgk,', 'wnvt,']\n",
      "['ccmvcyo,', 'qncnab,', 'luewaowil,', 'vwgimg,', 'mgnf,', 'ezfn,', 'bkjqpxb,', 'ghocdyuxu,', 'gumqxcjd,', 'rvuzab,', 'wxpax,', 'sthoz,', 'ybvz,', 'ppng,', 'pmrnippn,', 'iirjxqpi,', 'zgie,', 'tvcqm,', 'hutuzdskna,']\n",
      "['mlwyxtl,', 'dyddjfysko,', 'feqspqfhn,', 'aplaev,', 'dpkxhnefvy,', 'arflfgzuv,', 'hebmmffucw,', 'cbufevq,']\n",
      "['ahhxuq,', 'zqiurvm,', 'ewmja,', 'rvpxjwgvp,']\n",
      "['edbme,', 'jnoluvm,', 'vjsupu,', 'hohm,', 'rdhoows,', 'knvgiw,', 'gxooarkvm,', 'wunpqz,', 'xymxppeq,', 'ckapjic,', 'gqlbbacl,', 'csous,', 'aizk,', 'mpmx,', 'uuiv,', 'xznrdp,', 'mduiwtluc,', 'lwuo,', 'qrjktyiecw,', 'pwtr,', 'xkzevtmraw,', 'bjmlbtehat,', 'tubi,']\n",
      "['jsst,', 'icdk,', 'nnzgdzz,', 'fyvsytinvt,', 'jybbkbhks,', 'scfkdx,', 'raykuak,', 'gypzgkw,', 'iich,', 'njnudofbx,', 'jdsfnkb,', 'bqpilsdw,', 'gfpzso,', 'danwvpe,', 'ozuugzhj,', 'yglxq,', 'awjc,', 'evufym,', 'iiookkazn,', 'lkorrf,', 'sfaayuq,', 'rmmgf,', 'fpquek,']\n",
      "['grcrllwy,', 'nghhconfmr,', 'xqzzfqhpth,', 'anoviwsmhx,', 'zxiqbfudc,', 'egbggfib,', 'hwpdgp,', 'dnisrfqcv,', 'zxtsljzpe,', 'xygvxv,', 'rbjzatu,', 'jivcmg,', 'padwi,', 'hymkiqojev,', 'fvmfbuhb,', 'tyghyv,', 'kbylpsql,', 'jnqsmti,', 'ekoumpjnl,', 'redht,', 'lwkscp,', 'luesxv,', 'kbgkq,', 'zijr,']\n",
      "['ovtwblit,', 'bbipxpoyi,', 'odfqhfoal,', 'mkmta,', 'gnmgoerylc,', 'ywcvt,', 'iylnneua,', 'mmxwnv,', 'ysupvkaqqh,', 'nrxnvxvx,', 'cboqmkjy,', 'fcah,']\n",
      "['oyvrhxst,', 'futybb,', 'rugnjosaj,', 'ozsvweck,', 'tzjbiuvio,', 'bxwf,', 'skgffd,', 'bcmhcbgory,', 'mpuyfaqzqg,', 'ahoh,', 'uqlovcsk,', 'qmteqsep,', 'ijtkar,', 'muyn,', 'djrabl,']\n",
      "['nktnviwo,', 'kbunycnru,', 'gvln,', 'mhxhlwckpn,', 'fheo,', 'tudbwwrhru,', 'keklpgkpc,', 'udvbmpwvgw,', 'smsfjsptpo,', 'ubmmcbjbb,', 'edrwquihew,', 'tbiotkao,', 'jttjmbeo,', 'bugdhme,', 'kufyvt,', 'dnsjczn,', 'eoisn,', 'xakdid,', 'ffstkqsh,', 'hjunxo,', 'vavryeo,', 'xjwhgijpos,', 'ewkh,', 'fmlipcq,', 'ulgmmhfjwu,']\n",
      "['ivmf,', 'qbjyrws,', 'bjuenczse,', 'cgbgpuahk,', 'xidtm,', 'fvnsgws,', 'bdagyscss,', 'mlcvqvo,', 'tvzn,', 'dlcjxmjrrw,', 'zofmlijqg,', 'btutulhot,', 'xuiovd,', 'wnyfhxw,', 'cycyxoxquk,', 'mmystljat,']\n",
      "['rbhauuy,', 'jdtznzua,', 'ktxndynrnf,', 'gykotwgv,', 'vtadusespm,', 'jontjjkru,', 'hpcqdi,', 'nwlqa,', 'mdocbsf,', 'tjjyf,', 'tvfiomxs,', 'fbgxhdjph,', 'bhdur,', 'txlbj,', 'oddnmjc,', 'xmsaenvl,']\n",
      "['btpj,', 'rfkviqlp,', 'rjhixkbkb,', 'ydrdxbhyo,', 'akqozkqya,', 'xcmhmcwhk,', 'pqdhuefui,', 'wpkdjebvs,', 'zdgvcva,', 'lqlkrw,', 'fqfkaqb,', 'calb,', 'vyiquz,', 'mhln,', 'mkpjmenmg,', 'oxku,', 'cgrouiwnx,', 'bbaxp,', 'apxdgo,', 'cwzpavx,', 'kqenyrac,', 'vfys,', 'sanfhdp,', 'hmrxz,', 'eyqnsapc,']\n",
      "['jftxcfxl,', 'pkdpsbgm,', 'xpwtwt,', 'yipwxapxc,', 'goyituil,', 'xqlchulrtc,', 'nzuhy,', 'vdfqaxkcop,', 'vyywgcnfx,', 'xuoh,', 'iiboace,', 'wlvs,', 'dlykjgwbhc,', 'zgufvbotmm,', 'ezljx,', 'vxisnusd,', 'qzzcauv,', 'dple,', 'jufqgxgpp,', 'otlwonxuvx,']\n",
      "['vrbcisyt,', 'vimgeo,', 'sodzwunzx,', 'soohz,', 'hciwedl,', 'erjwbv,', 'yjzc,', 'pqxidaedwz,', 'azwh,', 'xglondsdp,', 'nmugl,', 'ieoy,']\n",
      "['gqdpzluqp,', 'nrrqnoxpc,', 'bgffmjus,', 'wddnwo,', 'fjysrj,', 'orwmhcu,', 'utxec,', 'torvtrip,', 'wxlkegxngn,', 'igoysewvrf,', 'jgae,', 'mmriyj,', 'wmxfb,', 'obiaprpkj,', 'qqoz,']\n",
      "['wffie,', 'whuvylzud,', 'lxxeoetlvc,', 'vwptikgp,', 'tnvdhkiy,', 'bhrdyfv,', 'snqrrtkyj,', 'psiyldou,', 'zjxml,']\n",
      "['ahlv,', 'baax,', 'yxytkpo,', 'qohq,', 'pyuwwn,', 'gdjqufikmj,', 'bxfneomh,', 'cvxfbjq,', 'ghpkvotdu,', 'sltrq,', 'lklfjsqfax,']\n",
      "['uuigccpu,', 'pmoovze,', 'ozpc,', 'nlbjlndwwp,']\n",
      "['uzwk,', 'fwdernb,', 'xofeva,', 'goprj,', 'cckcx,', 'swndjuc,', 'iayboxk,', 'jufgbjrgdw,', 'yxsfv,', 'ylphmtrtr,', 'uukggw,', 'kvjyy,', 'edhuioub,']\n",
      "['pwopnmo,', 'fqwgym,', 'isfuszgw,', 'mufd,', 'wsdc,', 'qdvelxfwvm,', 'mtsudno,', 'lzjcctta,', 'gdramm,', 'lpdshrz,', 'fhqcsgpqyc,', 'mqdj,', 'runyvymb,']\n",
      "['jkvprymy,', 'znxxe,', 'mdprbgwiaw,', 'tikydjpno,', 'fvrhmig,', 'objdxd,', 'lyjm,', 'vhgvzbhi,', 'fjxdbuy,', 'owtpwslo,']\n",
      "['osgj,', 'dviuhcrinh,', 'naeknasg,', 'pwbqgno,', 'nxsh,', 'olipiuwni,', 'ackmvg,', 'eceuvi,']\n",
      "['onfx,', 'keuk,', 'qipzm,', 'kfgzisb,', 'qxbkoib,', 'nhvl,', 'euzwwwr,', 'wyinhiy,', 'xcqeuiav,']\n",
      "['szbg,', 'mpjvxnfz,', 'uwcma,', 'ghfvq,', 'vhtzb,', 'ffyyvtlkq,', 'temf,', 'elbqzflc,', 'niefq,', 'pgek,', 'jedgg,', 'bkgiadab,', 'gsnmevockh,', 'epmfu,', 'xbftikt,', 'zvdrauc,', 'lbvkkf,', 'avcjwzgs,', 'iqfhah,', 'cqili,', 'gmfhzsmj,']\n",
      "['mnmutn,', 'bljntbvotr,', 'sypqdbgc,', 'fvccgpvnww,', 'jhtoahfhy,', 'otps,', 'nacpfcz,', 'jqjyrbcwf,', 'eccfneo,', 'nkyt,', 'ricfj,', 'xgfids,', 'jjlho,', 'osmocbgj,', 'ujef,', 'thrbxo,', 'mdvgzybrk,', 'typhcqob,', 'bwbifbaw,', 'kdmqq,', 'wpplh,']\n",
      "['vmyrjkz,', 'ubzvixhp,', 'bxuoknri,', 'vqwqoxuecc,', 'ivtmnswvxu,', 'blwhtxsnp,', 'zwwu,', 'hboxakaplp,', 'aevbgre,', 'uxafakg,', 'vvrjiee,', 'gbzb,', 'umncpcyj,']\n",
      "['evnfbluu,', 'jifuf,', 'myodhthvu,', 'mfgrfakwi,', 'vsvq,', 'ispcygrsbd,', 'moyzobveo,', 'tsgkturqk,', 'ngjfa,', 'wjwmaipqr,', 'vzikxjcx,', 'fujyehbdjg,', 'rkfu,', 'ugnbqkfsh,', 'mvegxhufl,', 'omopkcgm,', 'hfhizorzu,', 'ogtykqw,', 'bxwcjbbnc,', 'gqkiwm,', 'pncm,', 'zzcys,', 'ppjzl,', 'bgykqzc,', 'mjze,']\n",
      "['oblwuhcsq,', 'lacai,', 'umga,', 'xoaz,', 'arhxtminid,', 'wuukundfq,', 'tjavti,', 'zibuvvhe,', 'xjch,', 'znjcnpsyw,', 'wpsszdtj,', 'uacfbhthb,', 'umyposeq,', 'eipha,', 'oveyqj,', 'udosg,', 'yudadkjqs,', 'hxtk,', 'vfczejhalz,', 'gudriidlqi,', 'lkgbuv,', 'iamdmjsli,']\n",
      "['cfwvrpej,', 'kxppem,', 'tlnpn,', 'qbmzu,', 'rhlboo,', 'iuzba,', 'ztwxdjrs,', 'ajvoevrya,', 'pssgp,', 'aplvelf,', 'ngegzgyb,', 'dqeutkrk,']\n",
      "['nlfyo,', 'pvhawv,', 'mltznwdsp,', 'udvqvoniqw,', 'aziquthzo,', 'iampi,', 'didcoicg,', 'vrbnwb,', 'eknsezrlbe,', 'cliptbd,', 'kgold,', 'doju,', 'ffohkikapg,', 'tllkle,']\n",
      "['phkestlp,', 'fhmjerblk,', 'jjow,', 'ocemtnslis,', 'upxjapyz,', 'byksuqswv,', 'hpgjnqyxdh,', 'eiqrcyag,', 'fppak,', 'qipmk,', 'whzwl,', 'vddrafpm,', 'turkrk,', 'fsybwjb,', 'seri,', 'vlkc,', 'dqokgz,', 'ysprxarvyq,', 'hcnbyuaibj,', 'phtyptbn,', 'qkixg,']\n",
      "['amtcwgdzz,', 'wblnzo,', 'lkwvc,', 'pmjv,', 'vazpabevrn,', 'qamrxde,', 'zcdg,', 'twnrsbnog,', 'qcqehyc,', 'jjuiqtl,', 'omupvcpq,', 'cnbkjb,', 'wqqv,', 'ooedpt,', 'ifql,', 'ynlodjasg,', 'ghtucqaaa,']\n",
      "['yqcndl,', 'esfnym,', 'nqgxitxn,', 'fokyqhg,', 'ecgnlc,', 'lahlbzpdgp,', 'lcgm,', 'dbinmxcf,', 'eeus,']\n",
      "['xcdcfbw,', 'arwkbv,', 'skacdklx,', 'pdyvtki,', 'lcrlwmliqn,', 'gnhwq,', 'hhqdfvxve,', 'ekdszxypj,', 'xaqclowfy,', 'oavzrxrom,', 'nfznuqcp,', 'rpdt,', 'agzebdgsr,', 'ktjpxtc,', 'dmxgj,', 'kvnl,']\n",
      "['tftywuq,', 'ejmjkfdxpk,', 'dgvtujugx,', 'bawuri,', 'tfivadg,', 'pbmswjuzj,', 'yffunrir,', 'gdeid,', 'dwvrb,', 'sslsu,', 'pjvah,', 'lerrtxtn,', 'zqzgeqxfj,', 'vjunupyca,', 'lorkcee,', 'lwhlhqi,', 'vsvjtkua,', 'bcxmqcfis,', 'gqradmzw,', 'wxjknwxzn,', 'ydrf,']\n",
      "['yzrfqzu,', 'zmntqff,', 'lzdiird,', 'kfqn,', 'zraoesvx,', 'tgvav,', 'kiky,', 'ktkv,', 'rphp,', 'ingy,', 'vftnrghzb,', 'jdesqtmj,', 'ktovq,', 'unzb,']\n",
      "['rquoh,', 'riuhdoigl,', 'lgpg,', 'syxmtsfm,', 'vbqjwjmk,', 'ebdigz,', 'xwcbqvsp,', 'anzwvohtb,', 'auotn,', 'iguhqhybww,', 'qagrnjisud,']\n",
      "['tohjvkeil,', 'gecn,', 'dzreycq,', 'vvlcin,', 'dhrtz,', 'aezj,', 'katwbascpf,', 'xgersgu,', 'gqqknqcnd,', 'hghb,', 'rjjr,']\n",
      "['dvtv,', 'tcrcy,', 'elpjjqwc,', 'lrootv,', 'maexj,', 'fuhtjk,', 'doimx,', 'dgaa,', 'ayunoas,', 'hakchr,', 'knijmsdrsp,']\n",
      "['lwielqef,', 'pimvavjfl,', 'vhlxf,', 'bdkgtpkzka,', 'fxzmxhsu,', 'yhkez,', 'ubcila,', 'tbtnt,', 'wpacbchbw,', 'yiwycwupr,', 'osxnr,', 'ywcc,', 'ehoiphlzr,', 'bgobykat,', 'pjznudjio,']\n",
      "['idjeqfnwq,', 'ymnxc,', 'sirbc,', 'gtzcjpf,', 'egejcmdsnb,', 'ogeubt,', 'dfpamepjce,', 'wbiehdm,', 'xclxpxme,', 'ccldlp,', 'sfzmfyvkt,', 'tjxtpo,', 'wbuvrb,', 'elrpkatau,', 'evkvorsb,', 'hmkdhtey,', 'dpse,', 'livhtdff,', 'iduuiqb,', 'igrdr,', 'rptbwbybps,', 'jlddf,', 'erugp,', 'admk,']\n",
      "['haux,', 'gtkbv,', 'rmjerasqpo,', 'iwtayow,', 'fkgrrydt,', 'rrkqgx,', 'nmpsfto,', 'kfztdalpdf,', 'hryqgo,', 'znscderogt,', 'jtqfzljtj,', 'hiwekwktnz,', 'odim,']\n",
      "['ayyzusi,', 'bonozpnmz,', 'lmmtf,', 'rgvmhllco,', 'bkrp,']\n",
      "['delbbuxn,', 'yjabavnmy,', 'vfdppxs,', 'owaqhax,', 'hwtgafms,', 'bzder,', 'npgnvvdp,', 'tmtqvgin,', 'gimf,', 'gvvxa,', 'fplheo,', 'vwqmwaq,', 'oxremblzs,', 'jcephdjgzz,', 'thegohvgf,', 'mghbj,', 'qdhwaq,']\n",
      "['pcohrqi,', 'ssxbab,', 'vkfv,', 'njjv,']\n",
      "['rzyih,', 'mcjypbgt,', 'gyfxvj,', 'uqxfe,', 'hfxhqksc,', 'peaunu,', 'iuqciesn,', 'mnqysat,', 'wolhoeln,', 'lmolk,', 'tpsujhmx,', 'bugajvpvgw,', 'znica,', 'kqqd,', 'apmfhc,', 'fflq,', 'ortfsr,', 'hjzmzrkfh,', 'mkav,', 'otvfv,', 'wbualcpo,', 'kbwnn,', 'ufmxokvsr,', 'ymhm,', 'jemoeiyls,']\n",
      "['xsvckwagoh,', 'xkrww,', 'jfmpkeimk,', 'ytydgzz,', 'nyhnxaphw,', 'ozrnrg,', 'mmww,', 'jodkdxos,', 'zikf,', 'oocuy,', 'gszjl,', 'kyncybfcv,', 'xvvks,', 'gimsodznq,', 'ymzif,', 'ixmhgreiyq,', 'tclajbufwm,', 'qccq,', 'iutbdza,', 'ksqnacad,', 'yjcdpx,']\n",
      "['eggwfriu,', 'dskgxg,', 'nbgfkox,', 'ouxe,', 'tfhya,', 'tvvz,', 'ausurgxep,', 'wkgxh,', 'lcppqg,', 'pbkhgwjvyb,', 'mqyew,', 'wyvqvjirra,', 'bymjayrene,', 'uxkxn,']\n",
      "['aluidih,', 'swrq,', 'twfhvb,', 'rdexahz,', 'zpiqg,', 'lzeup,', 'iiozq,', 'amfwidnq,', 'iqjsko,', 'qzjcd,', 'egejz,', 'xktl,', 'ufjv,', 'nuaxeqov,', 'cxft,', 'zhubh,', 'umkcuavih,', 'degdhp,', 'iucljfclgb,', 'cuowzs,', 'pwcb,', 'fdhu,', 'hnwvjrjuk,', 'fwgpczbg,']\n",
      "['ebrdofvm,', 'wsisezakl,', 'pfchrxucbu,', 'hkjuwzkp,', 'lexnfx,', 'icnn,', 'hiyxpbk,', 'pmcfeef,', 'msed,', 'gxwcp,', 'alrekrf,']\n",
      "['juhteh,', 'wxanoshho,', 'sblmte,', 'jqqww,', 'xnuuluwuy,', 'xcdlecbui,', 'xjcw,', 'ssjlivygid,', 'sfdhvqybi,', 'aqnnpscm,', 'zrcvsl,', 'yilsy,', 'vgbc,', 'odjchlt,', 'zrxikyn,', 'eadohz,', 'bgpbhiouz,', 'dpxhdpv,']\n",
      "['mjzpyav,', 'blvjthhvtk,', 'gnnoeolf,', 'ugkovn,', 'xbopxynioj,', 'uqpjl,', 'nssbs,', 'velzvbthen,', 'rhstecg,', 'livhmobbt,', 'csns,', 'atzt,', 'fnrj,', 'ljctqn,', 'wtwe,', 'snlvxqpo,', 'vfzxpf,', 'hlmkpoz,', 'nbyt,', 'zommjtdvc,', 'anbcnoshfc,']\n",
      "['owgpuesdpq,', 'deccmxzjfa,', 'wbowij,', 'zdng,']\n",
      "['maaxtzgjs,', 'ansg,', 'spcegvop,', 'fxrjs,', 'dzfu,', 'kihdnyldfn,', 'bypw,', 'mzxma,', 'siuhyyosq,', 'kkmuuhnybi,', 'eine,', 'ykorzzymb,', 'nzkoa,', 'mycaoj,', 'gbotbzddf,']\n",
      "['xrxgzvji,', 'aezngkdqf,', 'avneri,', 'xpnx,', 'ymkpahtm,', 'imtrra,', 'ppvtgmiz,', 'ckabmmufwd,', 'hbbvu,', 'uqmrypvcd,', 'ihlieg,', 'nnqkvuw,', 'kniiobdngt,', 'bxdpyvort,', 'jtpzxwzej,', 'xuzintbkv,', 'wgmksfhp,', 'qjixvto,', 'zqvksgs,', 'hpvfnctj,', 'ucfffit,', 'vlbomv,', 'xyfxxiwled,']\n",
      "['htim,', 'bwofpca,', 'gqgqnajs,', 'joqy,', 'bquitjsbn,', 'auqmulc,', 'qkrk,', 'ckmidtux,', 'najlrtop,', 'aera,', 'xuhwk,']\n",
      "['halk,', 'ocnu,', 'jyqgx,', 'khiuyey,', 'uryoqsv,', 'myoj,', 'awrsntqx,', 'cmnovrgil,', 'knsvxsb,']\n",
      "['ciafcm,', 'asamutkio,', 'dlnxxhr,', 'kvsuq,', 'avcwrnxd,', 'jcwv,', 'eawkn,', 'ctqa,', 'phht,', 'hqjoxefnv,', 'ghvk,', 'bknsqxkqre,', 'ozzoa,', 'bgvvot,', 'iywldwr,', 'jvyqjxhtqt,', 'stvpujciv,', 'gpzbstizey,', 'bqgiocoy,', 'ojdgstf,', 'rrcc,', 'ibnvssltjz,']\n",
      "['kgxns,', 'giuub,', 'taqswiip,', 'cpvwwwdv,', 'lgxabz,', 'bkkpmxsg,', 'wxduedojq,', 'zlpxswjpx,', 'dntuckxb,', 'qizcdw,', 'ilotn,', 'obftc,']\n",
      "['vlxcndouz,', 'zmckxj,', 'oogiwgfhl,', 'erykqsmzl,', 'rsqs,', 'jmxunoqytr,', 'tljprlfw,', 'bvzvyqf,', 'ymgbimuwk,', 'pjrzlcyrju,', 'bfijdpuo,']\n",
      "['uvlayy,', 'qowvlueps,', 'misiqtfnea,', 'veqmpofrl,', 'zccf,', 'rgjpdo,', 'ikpbkgh,', 'cllnannoh,', 'xqvorlfst,', 'irhaaforu,', 'eydhlqmk,', 'uvydjkw,', 'gslevqlpz,', 'fssij,', 'lhumq,', 'cmtbb,', 'oyplbbuet,', 'pordt,', 'qvujotrd,']\n",
      "['xhvotq,', 'uoxnbgwri,', 'xyujcnqirb,', 'ypseq,', 'kbbuikttxj,', 'nlhtsvbelt,', 'obyfhvusn,', 'hjqnam,', 'rghwamu,', 'mxyiksvuf,', 'ultyxlje,', 'igasdwi,', 'lqhcbdhwz,', 'ftyjmg,', 'apspsmdx,', 'ckqdct,', 'waoaeg,', 'amzeypk,']\n",
      "['mwiv,', 'umafywso,', 'nrjok,', 'tsss,']\n",
      "['tajbozh,', 'eggrba,', 'oqkl,', 'pdhvyvxr,', 'ouwrmtpua,', 'awyd,', 'fvbvtf,']\n",
      "['dvwqrs,', 'tbnd,', 'molj,', 'jinmw,']\n",
      "['scqkzjc,', 'izgku,', 'viizci,', 'odvj,', 'ddtg,']\n",
      "['hecgqf,', 'iacgn,', 'kasjuzq,', 'kddmph,', 'cpgkexqtj,', 'okocytbje,', 'wxsigagdz,', 'kxhyjslek,', 'vepkt,', 'tnuzl,', 'uafkqjt,', 'vyihdgynp,', 'ajowpmjp,', 'wpvzp,']\n",
      "['trwkoqxbu,', 'ubnoqm,', 'ywhzdqdhpg,', 'reejlz,', 'kxvzpruoer,', 'xvcn,', 'gtzomzs,', 'ayrvix,', 'vxmw,', 'ecfq,']\n",
      "['ihtl,', 'cussdowv,', 'xjrangwvza,', 'kiuzpcej,', 'jcwxqhu,', 'cratb,', 'mysbkbxv,', 'nrqeuzxm,', 'sfxlw,', 'yryzr,', 'qlffsmq,', 'kngqhrjjpk,', 'asjgoaaz,', 'rpxgum,', 'wviayttj,', 'ausgvxxh,', 'zmzicjcqam,', 'zkcjb,', 'gihwcmw,', 'djcna,', 'rhjwi,']\n",
      "['jnso,', 'oukwcjbvo,', 'kijqnjzmm,', 'vsab,', 'oaoi,', 'acihholzy,', 'wkybskan,', 'poybtseai,', 'cxjaamj,', 'yeugh,', 'mvsfw,', 'ajlnases,', 'kiiz,', 'dufxfactqc,', 'mgxzn,', 'cpqg,', 'kjotanpj,', 'xosjojdano,', 'izzdkasa,', 'zemlicme,', 'wuzkq,', 'iqvgo,']\n"
     ]
    }
   ],
   "source": [
    "# Para testear tu función \n",
    "test_alpha(sort_alpha)"
   ]
  },
  {
   "cell_type": "markdown",
   "metadata": {},
   "source": [
    "## 12. Escribe una función para verificar si una contraseña dada es fuerte (al menos 8 caracteres, al menos una minúscula, al menos una mayúscula, al menos un número y al menos un carácter especial). Debería devolver True si es fuerte y False si no lo es."
   ]
  },
  {
   "cell_type": "code",
   "execution_count": 71,
   "metadata": {},
   "outputs": [],
   "source": [
    "def check_pass(contraseña):\n",
    "    if len(contraseña) < 8:\n",
    "        return False  # Debe tener al menos 8 caracteres\n",
    "    \n",
    "    tiene_minuscula = False\n",
    "    tiene_mayuscula = False\n",
    "    tiene_numero = False\n",
    "    tiene_especial = False\n",
    "    \n",
    "    especiales = \"!@#$%^&*()-_+=<>?/{}[]|\\\\:;\\\"'.,\"\n",
    "    \n",
    "    for caracter in contraseña:\n",
    "        if 'a' <= caracter <= 'z':  # Minúscula\n",
    "            tiene_minuscula = True\n",
    "        elif 'A' <= caracter <= 'Z':  # Mayúscula\n",
    "            tiene_mayuscula = True\n",
    "        elif '0' <= caracter <= '9':  # Número\n",
    "            tiene_numero = True\n",
    "        elif caracter in especiales:  # Carácter especial\n",
    "            tiene_especial = True\n",
    "    \n",
    "    # La contraseña es fuerte si cumple todas las condiciones\n",
    "    return tiene_minuscula and tiene_mayuscula and tiene_numero and tiene_especial"
   ]
  },
  {
   "cell_type": "code",
   "execution_count": 73,
   "metadata": {},
   "outputs": [
    {
     "name": "stderr",
     "output_type": "stream",
     "text": [
      "....................................................................................................\n",
      "----------------------------------------------------------------------\n",
      "Ran 100 tests in 0.032s\n",
      "\n",
      "OK\n"
     ]
    }
   ],
   "source": [
    "# Para testear tu función\n",
    "test_pass(check_pass)"
   ]
  },
  {
   "cell_type": "code",
   "execution_count": null,
   "metadata": {},
   "outputs": [],
   "source": []
  }
 ],
 "metadata": {
  "kernelspec": {
   "display_name": "Python [conda env:anaconda3]",
   "language": "python",
   "name": "conda-env-anaconda3-py"
  },
  "language_info": {
   "codemirror_mode": {
    "name": "ipython",
    "version": 3
   },
   "file_extension": ".py",
   "mimetype": "text/x-python",
   "name": "python",
   "nbconvert_exporter": "python",
   "pygments_lexer": "ipython3",
   "version": "3.11.3"
  },
  "vscode": {
   "interpreter": {
    "hash": "aee8b7b246df8f9039afb4144a1f6fd8d2ca17a180786b69acc140d282b71a49"
   }
  }
 },
 "nbformat": 4,
 "nbformat_minor": 4
}
